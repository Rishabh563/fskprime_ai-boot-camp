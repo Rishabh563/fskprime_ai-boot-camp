{
  "nbformat": 4,
  "nbformat_minor": 0,
  "metadata": {
    "colab": {
      "provenance": []
    },
    "kernelspec": {
      "name": "python3",
      "display_name": "Python 3"
    },
    "language_info": {
      "name": "python"
    }
  },
  "cells": [
    {
      "cell_type": "markdown",
      "source": [
        "# Task 1: Python Proficiency Check – AI Bootcamp Prep"
      ],
      "metadata": {
        "id": "L982FdumDCVn"
      }
    },
    {
      "cell_type": "markdown",
      "source": [
        "## Section 1: Basics & Control Flow"
      ],
      "metadata": {
        "id": "gk9AwRFXDO6n"
      }
    },
    {
      "cell_type": "markdown",
      "source": [
        "### **Task 1**: FizzBuzz with a Twist\n",
        "\n",
        "*Instruction*: Write a function that prints numbers from 1 to 50. For multiples of 3, print \"AI\", for multiples of 5 print \"Bootcamp\", and for multiples of both 3 and 5 print \"AI Bootcamp\"."
      ],
      "metadata": {
        "id": "tG2LLFb4DSrf"
      }
    },
    {
      "cell_type": "code",
      "source": [
        "def print_ai_bootcamp():\n",
        "    for i in range(1, 51):\n",
        "        if i % 3 == 0 and i % 5 == 0:\n",
        "            print(\"AI Bootcamp\")\n",
        "        elif i % 3 == 0:\n",
        "            print(\"AI\")\n",
        "        elif i % 5 == 0:\n",
        "            print(\"Bootcamp\")\n",
        "        else:\n",
        "            print(i)\n",
        "\n",
        "# Call the function\n",
        "print_ai_bootcamp()\n"
      ],
      "metadata": {
        "id": "G6YtbgenDSWH",
        "colab": {
          "base_uri": "https://localhost:8080/"
        },
        "outputId": "bf031264-8315-4b5f-8acb-a6879388b4c8"
      },
      "execution_count": 1,
      "outputs": [
        {
          "output_type": "stream",
          "name": "stdout",
          "text": [
            "1\n",
            "2\n",
            "AI\n",
            "4\n",
            "Bootcamp\n",
            "AI\n",
            "7\n",
            "8\n",
            "AI\n",
            "Bootcamp\n",
            "11\n",
            "AI\n",
            "13\n",
            "14\n",
            "AI Bootcamp\n",
            "16\n",
            "17\n",
            "AI\n",
            "19\n",
            "Bootcamp\n",
            "AI\n",
            "22\n",
            "23\n",
            "AI\n",
            "Bootcamp\n",
            "26\n",
            "AI\n",
            "28\n",
            "29\n",
            "AI Bootcamp\n",
            "31\n",
            "32\n",
            "AI\n",
            "34\n",
            "Bootcamp\n",
            "AI\n",
            "37\n",
            "38\n",
            "AI\n",
            "Bootcamp\n",
            "41\n",
            "AI\n",
            "43\n",
            "44\n",
            "AI Bootcamp\n",
            "46\n",
            "47\n",
            "AI\n",
            "49\n",
            "Bootcamp\n"
          ]
        }
      ]
    },
    {
      "cell_type": "markdown",
      "source": [
        "### **Task 2**: List Comprehensions and Functions\n",
        "\n",
        "*Instruction*: Given a list of numbers, square only the even numbers using a list comprehension and define a function that returns the result."
      ],
      "metadata": {
        "id": "8YMADBQmDhHU"
      }
    },
    {
      "cell_type": "code",
      "execution_count": 5,
      "metadata": {
        "colab": {
          "base_uri": "https://localhost:8080/"
        },
        "id": "sPfpD1yF4LTO",
        "outputId": "b1a0f47a-b457-4b73-879e-ab4319930ff3"
      },
      "outputs": [
        {
          "output_type": "stream",
          "name": "stdout",
          "text": [
            "result\n"
          ]
        }
      ],
      "source": [
        "def square_even_numbers(numbers):\n",
        "    return [x**2 for x in numbers if x % 2 == 0]\n",
        "result = square_even_numbers([1, 2, 3, 4, 5, 6])\n",
        "print(\"result\")\n"
      ]
    },
    {
      "cell_type": "markdown",
      "source": [
        "## Section 2: Data Structures & File I/O"
      ],
      "metadata": {
        "id": "03CKwCBtDzRL"
      }
    },
    {
      "cell_type": "markdown",
      "source": [
        "### **Task 3**: Word Frequency from a File\n",
        "\n",
        "*Instruction*: Read the provided text file (sample.txt) and return the 5 most common words (ignoring punctuation and case)."
      ],
      "metadata": {
        "id": "oh1W_9m5DuzF"
      }
    },
    {
      "cell_type": "code",
      "source": [
        "def print_ai_bootcamp():\n",
        "    for i in range(1, 51):\n",
        "        if i % 3 == 0 and i % 5 == 0:\n",
        "            print(\"AI Bootcamp\")\n",
        "        elif i % 3 == 0:\n",
        "            print(\"AI\")\n",
        "        elif i % 5 == 0:\n",
        "            print(\"Bootcamp\")\n",
        "        else:\n",
        "            print(i)\n",
        "\n",
        "# Call the function\n",
        "print_ai_bootcamp()\n",
        "\n"
      ],
      "metadata": {
        "id": "SQTsWR6GDn6e",
        "colab": {
          "base_uri": "https://localhost:8080/"
        },
        "outputId": "98a24c38-e483-418e-ad14-1f97393a4fd1"
      },
      "execution_count": 6,
      "outputs": [
        {
          "output_type": "stream",
          "name": "stdout",
          "text": [
            "1\n",
            "2\n",
            "AI\n",
            "4\n",
            "Bootcamp\n",
            "AI\n",
            "7\n",
            "8\n",
            "AI\n",
            "Bootcamp\n",
            "11\n",
            "AI\n",
            "13\n",
            "14\n",
            "AI Bootcamp\n",
            "16\n",
            "17\n",
            "AI\n",
            "19\n",
            "Bootcamp\n",
            "AI\n",
            "22\n",
            "23\n",
            "AI\n",
            "Bootcamp\n",
            "26\n",
            "AI\n",
            "28\n",
            "29\n",
            "AI Bootcamp\n",
            "31\n",
            "32\n",
            "AI\n",
            "34\n",
            "Bootcamp\n",
            "AI\n",
            "37\n",
            "38\n",
            "AI\n",
            "Bootcamp\n",
            "41\n",
            "AI\n",
            "43\n",
            "44\n",
            "AI Bootcamp\n",
            "46\n",
            "47\n",
            "AI\n",
            "49\n",
            "Bootcamp\n"
          ]
        }
      ]
    },
    {
      "cell_type": "markdown",
      "source": [
        "## Section 3: NumPy & pandas"
      ],
      "metadata": {
        "id": "mVV1BgZvEE3a"
      }
    },
    {
      "cell_type": "markdown",
      "source": [
        "### **Task 4**: NumPy Matrix Magic\n",
        "\n",
        "*Instruction*: Create a 5x5 matrix with random integers from 1 to 10. Replace all elements greater than 5 with 0."
      ],
      "metadata": {
        "id": "opUK7Z7LEIr4"
      }
    },
    {
      "cell_type": "code",
      "source": [
        "import random\n",
        "\n",
        "def create_modified_matrix():\n",
        "    # Create a 5x5 matrix with random integers from 1 to 10\n",
        "    matrix = [[random.randint(1, 10) for _ in range(5)] for _ in range(5)]\n",
        "\n",
        "    # Replace elements greater than 5 with 0\n",
        "    modified_matrix = [[0 if x > 5 else x for x in row] for row in matrix]\n",
        "\n",
        "    return modified_matrix\n",
        "\n",
        "# Example usage\n",
        "# matrix = create_modified_matrix()\n",
        "#for row in matrix:\n",
        "    print(row)\n"
      ],
      "metadata": {
        "id": "UW3FMdjQEEl3"
      },
      "execution_count": 8,
      "outputs": []
    },
    {
      "cell_type": "markdown",
      "source": [
        "### **Task 5**: pandas DataFrame Manipulation\n",
        "\n",
        "*Instruction*: Given the following dictionary, convert it into a DataFrame, calculate the average score per student, and add it as a new column."
      ],
      "metadata": {
        "id": "YuFv3sE6ET9d"
      }
    },
    {
      "cell_type": "code",
      "source": [
        "student_scores = {\n",
        "    'Name': ['Anita', 'Ravi', 'Sneha'],\n",
        "    'Math': [88, 76, 93],\n",
        "    'Science': [90, 80, 85],\n",
        "    'English': [84, 78, 91]\n",
        "}\n",
        "import pandas as pd\n",
        "\n",
        "def add_student_averages(data):\n",
        "    # Convert dictionary to DataFrame\n",
        "    df = pd.DataFrame(data)\n",
        "\n",
        "    # Calculate average score per student and add it as a new column\n",
        "    subject_cols = [col for col in df.columns if col != 'Name']\n",
        "    df['Average'] = df[subject_cols].mean(axis=1)\n",
        "\n",
        "    return df\n",
        "\n",
        "# Example usage\n",
        "# df = add_student_averages(student_scores)\n",
        "# print(df)\n"
      ],
      "metadata": {
        "id": "horbXH8iETuH"
      },
      "execution_count": 9,
      "outputs": []
    },
    {
      "cell_type": "markdown",
      "source": [
        "## Section 4: Visualization & Logic"
      ],
      "metadata": {
        "id": "GNO0DPi3EpgF"
      }
    },
    {
      "cell_type": "markdown",
      "source": [
        "### **Task 6**: Simple Data Visualization\n",
        "\n",
        "*Instruction*: Use matplotlib to create a bar chart showing the average score per subject from the DataFrame in the previous task."
      ],
      "metadata": {
        "id": "W74DNGaJEtdj"
      }
    },
    {
      "cell_type": "code",
      "source": [
        "import pandas as pd\n",
        "import matplotlib.pyplot as plt\n",
        "\n",
        "# Sample dictionary\n",
        "student_scores = {\n",
        "    'Name': ['Anita', 'Ravi', 'Sneha'],\n",
        "    'Math': [88, 76, 93],\n",
        "    'Science': [90, 80, 85],\n",
        "    'English': [84, 78, 91]\n",
        "}\n",
        "\n",
        "# Convert dictionary to DataFrame\n",
        "df = pd.DataFrame(student_scores)\n",
        "\n",
        "# Calculate average per subject (excluding 'Name')\n",
        "subject_cols = ['Math', 'Science', 'English']\n",
        "average_per_subject = df[subject_cols].mean()\n",
        "\n",
        "# Plotting\n",
        "plt.figure(figsize=(8, 5))\n",
        "plt.bar(average_per_subject.index, average_per_subject.values, color='skyblue')\n",
        "plt.title('Average Score per Subject')\n",
        "plt.ylabel('Average Score')\n",
        "plt.xlabel('Subject')\n",
        "plt.ylim(0, 100)\n",
        "plt.grid(axis='y', linestyle='--', alpha=0.7)\n",
        "plt.tight_layout()\n",
        "plt.show()\n",
        "\n"
      ],
      "metadata": {
        "id": "aM8iWEAXEOmE",
        "colab": {
          "base_uri": "https://localhost:8080/",
          "height": 507
        },
        "outputId": "290c5bba-e7f5-4f8d-fd72-a62a68666c60"
      },
      "execution_count": 10,
      "outputs": [
        {
          "output_type": "display_data",
          "data": {
            "text/plain": [
              "<Figure size 800x500 with 1 Axes>"
            ],
            "image/png": "[encoded data removed]"
          },
          "metadata": {}
        }
      ]
    },
    {
      "cell_type": "markdown",
      "source": [
        "## Section 5: Mini-Project Challenge"
      ],
      "metadata": {
        "id": "yFxPFagsE9mS"
      }
    },
    {
      "cell_type": "markdown",
      "source": [
        "### **Task 7**: Build a Mini Calculator with Exception Handling\n",
        "\n",
        "*Instruction*: Write a function that takes two numbers and an operator as input (+, -, *, /). Return the result, and handle divide-by-zero and invalid operator cases with appropriate error messages."
      ],
      "metadata": {
        "id": "IZwIOzHXFD1a"
      }
    },
    {
      "cell_type": "code",
      "source": [
        "def simple_calculator(a, b, operator):\n",
        "    try:\n",
        "        if operator == '+':\n",
        "            return a + b\n",
        "        elif operator == '-':\n",
        "            return a - b\n",
        "        elif operator == '*':\n",
        "            return a * b\n",
        "        elif operator == '/':\n",
        "            if b == 0:\n",
        "                return \"Error: Cannot divide by zero.\"\n",
        "            return a / b\n",
        "        else:\n",
        "            return \"Error: Invalid operator. Use +, -, *, or /.\"\n",
        "    except Exception as e:\n",
        "        return f\"An unexpected error occurred: {e}\"\n",
        "\n",
        "# Example usage:\n",
        "# print(simple_calculator(10, 5, '+'))  # Output: 15\n",
        "# print(simple_calculator(10, 0, '/'))  # Output: Error: Cannot divide by zero.\n",
        "# print(simple_calculator(10, 5, '%'))  # Output: Error: Invalid operator. Use +, -, *, or /.\n"
      ],
      "metadata": {
        "id": "VpUFTR1JFDWk"
      },
      "execution_count": 11,
      "outputs": []
    }
  ]
}